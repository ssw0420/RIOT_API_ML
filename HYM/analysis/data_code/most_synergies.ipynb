{
 "cells": [
  {
   "cell_type": "code",
   "execution_count": 1,
   "metadata": {},
   "outputs": [
    {
     "name": "stdout",
     "output_type": "stream",
     "text": [
      "가장 많이 사용된 시너지 분석이 완료되었습니다. 결과가 'most_common_synergies.json' 파일에 저장되었습니다.\n"
     ]
    }
   ],
   "source": [
    "import json\n",
    "from collections import Counter\n",
    "\n",
    "# filtered_synergies_results.json 파일 로드\n",
    "with open('filtered_synergies_results.json', 'r', encoding='utf-8') as file:\n",
    "    synergies_data = json.load(file)\n",
    "\n",
    "# PUUID별로 가장 많이 사용된 시너지 추출\n",
    "puuid_synergy_counter = {}\n",
    "\n",
    "for entry in synergies_data:\n",
    "    puuid = entry['puuid']\n",
    "    synergy_name = entry['synergy_name']\n",
    "    \n",
    "    if puuid not in puuid_synergy_counter:\n",
    "        puuid_synergy_counter[puuid] = Counter()\n",
    "    \n",
    "    # 시너지 사용 횟수를 증가\n",
    "    puuid_synergy_counter[puuid][synergy_name] += 1\n",
    "\n",
    "# 결과를 저장할 리스트\n",
    "result = []\n",
    "\n",
    "for puuid, synergy_counter in puuid_synergy_counter.items():\n",
    "    # 가장 많이 사용된 시너지와 그 사용 횟수\n",
    "    max_count = max(synergy_counter.values())\n",
    "    most_common_synergies = [synergy for synergy, count in synergy_counter.items() if count == max_count]\n",
    "    \n",
    "    # JSON에 저장할 형식으로 정리\n",
    "    result.append({\n",
    "        \"puuid\": puuid,\n",
    "        \"synergy_name\": most_common_synergies if len(most_common_synergies) > 1 else most_common_synergies[0]\n",
    "    })\n",
    "\n",
    "# 결과를 JSON 파일로 저장\n",
    "with open('most_common_synergies.json', 'w', encoding='utf-8') as file:\n",
    "    json.dump(result, file, ensure_ascii=False, indent=4)\n",
    "\n",
    "print(\"가장 많이 사용된 시너지 분석이 완료되었습니다. 결과가 'most_common_synergies.json' 파일에 저장되었습니다.\")\n"
   ]
  }
 ],
 "metadata": {
  "kernelspec": {
   "display_name": "Under",
   "language": "python",
   "name": "python3"
  },
  "language_info": {
   "codemirror_mode": {
    "name": "ipython",
    "version": 3
   },
   "file_extension": ".py",
   "mimetype": "text/x-python",
   "name": "python",
   "nbconvert_exporter": "python",
   "pygments_lexer": "ipython3",
   "version": "3.11.10"
  }
 },
 "nbformat": 4,
 "nbformat_minor": 2
}
