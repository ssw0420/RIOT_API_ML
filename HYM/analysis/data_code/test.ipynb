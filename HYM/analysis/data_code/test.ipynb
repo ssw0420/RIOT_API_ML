{
 "cells": [
  {
   "cell_type": "code",
   "execution_count": 3,
   "metadata": {},
   "outputs": [
    {
     "name": "stdout",
     "output_type": "stream",
     "text": [
      "Error fetching summoner info for PUUID LpZPk0GwsjwypO-DlR-Hm7naahXnNAwTJ9BOnb1jDG_v68jIzc604JCJW6BpYoNHo-xi4_Jmxi9FOQ: 400 Client Error: Bad Request for url: https://kr.api.riotgames.com/riot/account/v1/accounts/by-puuid/LpZPk0GwsjwypO-DlR-Hm7naahXnNAwTJ9BOnb1jDG_v68jIzc604JCJW6BpYoNHo-xi4_Jmxi9FOQ\n",
      "소환사 정보를 가져오지 못했습니다.\n"
     ]
    }
   ],
   "source": [
    "import requests\n",
    "import json\n",
    "\n",
    "# Riot API 키 설정\n",
    "api_key = 'RGAPI-11610e31-4ae9-44e7-829d-6d8238ae55e0'  # 유효한 Riot API 키로 교체하세요.\n",
    "\n",
    "# 요청 헤더 설정\n",
    "request_header = {\n",
    "    \"User-Agent\": \"Mozilla/5.0\",\n",
    "    \"Accept-Language\": \"ko-KR,ko;q=0.9,en-US;q=0.8,en;q=0.7\",\n",
    "    \"Accept-Charset\": \"application/x-www-form-urlencoded; charset=UTF-8\",\n",
    "    \"Origin\": \"https://developer.riotgames.com\",\n",
    "    \"X-Riot-Token\": api_key\n",
    "}\n",
    "\n",
    "# 사용자의 닉네임과 태그를 가져오는 함수\n",
    "def get_summoner_info(puuid):\n",
    "    summoner_url = f\"https://kr.api.riotgames.com/riot/account/v1/accounts/by-puuid/{puuid}\"\n",
    "    try:\n",
    "        response = requests.get(summoner_url, headers=request_header)\n",
    "        response.raise_for_status()\n",
    "        summoner_data = response.json()\n",
    "        return {\n",
    "            \"name\": summoner_data.get(\"name\"),\n",
    "            \"summonerLevel\": summoner_data.get(\"summonerLevel\"),\n",
    "            \"profileIconId\": summoner_data.get(\"profileIconId\")\n",
    "        }\n",
    "    except requests.exceptions.RequestException as e:\n",
    "        print(f\"Error fetching summoner info for PUUID {puuid}: {e}\")\n",
    "        return None\n",
    "\n",
    "# 사용자 입력을 통해 PUUID 가져오기\n",
    "puuid = input(\"PUUID를 입력하세요: \")\n",
    "\n",
    "# 입력된 PUUID로 소환사 정보 검색\n",
    "summoner_info = get_summoner_info(puuid)\n",
    "\n",
    "# 검색 결과 출력\n",
    "if summoner_info:\n",
    "    print(\"\\n소환사 정보:\")\n",
    "    print(f\"닉네임: {summoner_info['name']}\")\n",
    "    print(f\"소환사 레벨: {summoner_info['summonerLevel']}\")\n",
    "    print(f\"프로필 아이콘 ID: {summoner_info['profileIconId']}\")\n",
    "else:\n",
    "    print(\"소환사 정보를 가져오지 못했습니다.\")\n"
   ]
  }
 ],
 "metadata": {
  "kernelspec": {
   "display_name": "Under",
   "language": "python",
   "name": "python3"
  },
  "language_info": {
   "codemirror_mode": {
    "name": "ipython",
    "version": 3
   },
   "file_extension": ".py",
   "mimetype": "text/x-python",
   "name": "python",
   "nbconvert_exporter": "python",
   "pygments_lexer": "ipython3",
   "version": "3.11.10"
  }
 },
 "nbformat": 4,
 "nbformat_minor": 2
}
