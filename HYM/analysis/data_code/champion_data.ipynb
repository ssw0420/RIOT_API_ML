{
 "cells": [
  {
   "cell_type": "code",
   "execution_count": null,
   "metadata": {},
   "outputs": [
    {
     "name": "stdout",
     "output_type": "stream",
     "text": [
      "챔피언 데이터를 champion_data.json에 저장했습니다.\n"
     ]
    }
   ],
   "source": [
    "import requests\n",
    "import json\n",
    "\n",
    "def fetch_champion_data():\n",
    "    try:\n",
    "        version = \"14.20.1\"\n",
    "        url = f\"https://ddragon.leagueoflegends.com/cdn/{version}/data/ko_KR/champion.json\"\n",
    "        response = requests.get(url)\n",
    "        response.raise_for_status()  # HTTP 에러 발생 시 예외 처리\n",
    "        return response.json()\n",
    "    except requests.exceptions.RequestException as e:\n",
    "        print(f\"데이터 가져오는 중 오류 발생: {e}\")\n",
    "        return None\n",
    "\n",
    "def save_champion_data_to_json(champion_data, filename=\"champion_data.json\"):\n",
    "    try:\n",
    "        # championId와 championName만 추출하여 저장\n",
    "        formatted_data = [\n",
    "            {\"championId\": int(data[\"key\"]), \"championName\": data[\"name\"]}\n",
    "            for data in champion_data.values()\n",
    "        ]\n",
    "\n",
    "        # JSON 파일로 저장\n",
    "        with open(filename, \"w\", encoding=\"utf-8\") as file:\n",
    "            json.dump(formatted_data, file, ensure_ascii=False, indent=4)\n",
    "        \n",
    "        print(f\"챔피언 데이터를 {filename}에 저장했습니다.\")\n",
    "    except Exception as e:\n",
    "        print(f\"데이터 저장 중 오류 발생: {e}\")\n",
    "\n",
    "if __name__ == \"__main__\":\n",
    "    # Data Dragon에서 챔피언 데이터 가져오기\n",
    "    champion_json = fetch_champion_data()\n",
    "    \n",
    "    if champion_json:\n",
    "        # 챔피언 데이터를 가공하여 JSON 파일로 저장\n",
    "        save_champion_data_to_json(champion_json[\"data\"])\n"
   ]
  }
 ],
 "metadata": {
  "kernelspec": {
   "display_name": "Under",
   "language": "python",
   "name": "python3"
  },
  "language_info": {
   "codemirror_mode": {
    "name": "ipython",
    "version": 3
   },
   "file_extension": ".py",
   "mimetype": "text/x-python",
   "name": "python",
   "nbconvert_exporter": "python",
   "pygments_lexer": "ipython3",
   "version": "3.11.10"
  }
 },
 "nbformat": 4,
 "nbformat_minor": 2
}
