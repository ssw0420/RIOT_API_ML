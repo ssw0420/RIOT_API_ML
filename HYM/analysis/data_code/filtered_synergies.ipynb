{
 "cells": [
  {
   "cell_type": "code",
   "execution_count": 1,
   "metadata": {},
   "outputs": [
    {
     "name": "stdout",
     "output_type": "stream",
     "text": [
      "전처리가 완료되었습니다. 'filtered_synergies_results.json' 파일에 저장되었습니다.\n"
     ]
    }
   ],
   "source": [
    "import json\n",
    "\n",
    "# 현 시즌(TFT13) 시너지 이름 목록\n",
    "current_season_synergies = [\n",
    "    \"TFT13_Family\", \"TFT13_Cabal\", \"TFT13_Scrap\", \"TFT13_JunkerKing\", \"TFT13_HighRoller\",\n",
    "    \"TFT13_Rebel\", \"TFT13_Ambassador\", \"TFT13_Experiment\", \"TFT13_Academy\", \"TFT13_Hextech\",\n",
    "    \"TFT13_Hoverboard\", \"TFT13_Warband\", \"TFT13_Squad\", \"TFT13_Crime\", \"TFT13_Titan\",\n",
    "    \"TFT13_Challenger\", \"TFT13_Bruiser\", \"TFT13_Sorcerer\", \"TFT13_Ambusher\", \"TFT13_Invoker\",\n",
    "    \"TFT13_Sniper\", \"TFT13_Watcher\", \"TFT13_Infused\", \"TFT13_Pugilist\", \"TFT13_Martialist\",\n",
    "    \"TFT13_FormSwapper\"\n",
    "]\n",
    "\n",
    "# top_synergies_results.json 파일 로드\n",
    "with open('top_synergies_results.json', 'r', encoding='utf-8') as file:\n",
    "    top_synergies = json.load(file)\n",
    "\n",
    "# 현 시즌 시너지 데이터만 필터링\n",
    "filtered_synergies = [\n",
    "    entry for entry in top_synergies if entry['synergy_name'] in current_season_synergies\n",
    "]\n",
    "\n",
    "# 필터링된 결과를 새로운 JSON 파일로 저장\n",
    "with open('filtered_synergies_results.json', 'w', encoding='utf-8') as file:\n",
    "    json.dump(filtered_synergies, file, ensure_ascii=False, indent=4)\n",
    "\n",
    "print(\"전처리가 완료되었습니다. 'filtered_synergies_results.json' 파일에 저장되었습니다.\")\n"
   ]
  }
 ],
 "metadata": {
  "kernelspec": {
   "display_name": "Under",
   "language": "python",
   "name": "python3"
  },
  "language_info": {
   "codemirror_mode": {
    "name": "ipython",
    "version": 3
   },
   "file_extension": ".py",
   "mimetype": "text/x-python",
   "name": "python",
   "nbconvert_exporter": "python",
   "pygments_lexer": "ipython3",
   "version": "3.11.10"
  }
 },
 "nbformat": 4,
 "nbformat_minor": 2
}
