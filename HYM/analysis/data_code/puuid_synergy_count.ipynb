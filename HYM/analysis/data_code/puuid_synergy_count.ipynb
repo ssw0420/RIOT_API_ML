{
 "cells": [
  {
   "cell_type": "code",
   "execution_count": 1,
   "metadata": {},
   "outputs": [
    {
     "name": "stdout",
     "output_type": "stream",
     "text": [
      "PUUID별 시너지 사용 횟수 정리가 완료되었습니다. 결과가 'puuid_synergy_counts.json' 파일에 저장되었습니다.\n"
     ]
    }
   ],
   "source": [
    "import json\n",
    "from collections import Counter\n",
    "\n",
    "# top_synergies_results.json 파일 로드\n",
    "with open('filtered_synergies_results.json', 'r', encoding='utf-8') as file:\n",
    "    synergies_data = json.load(file)\n",
    "\n",
    "# PUUID별 시너지 사용 횟수 집계\n",
    "puuid_synergy_counts = {}\n",
    "\n",
    "for entry in synergies_data:\n",
    "    puuid = entry['puuid']\n",
    "    synergy_name = entry['synergy_name']\n",
    "    \n",
    "    if puuid not in puuid_synergy_counts:\n",
    "        puuid_synergy_counts[puuid] = Counter()\n",
    "    \n",
    "    # 시너지 사용 횟수 증가\n",
    "    puuid_synergy_counts[puuid][synergy_name] += 1\n",
    "\n",
    "# 결과를 저장할 리스트\n",
    "result = []\n",
    "\n",
    "for puuid, synergy_counter in puuid_synergy_counts.items():\n",
    "    result.append({\n",
    "        \"puuid\": puuid,\n",
    "        \"synergies\": dict(synergy_counter)  # Counter 객체를 딕셔너리로 변환\n",
    "    })\n",
    "\n",
    "# 결과를 JSON 파일로 저장\n",
    "with open('puuid_synergy_counts.json', 'w', encoding='utf-8') as file:\n",
    "    json.dump(result, file, ensure_ascii=False, indent=4)\n",
    "\n",
    "print(\"PUUID별 시너지 사용 횟수 정리가 완료되었습니다. 결과가 'puuid_synergy_counts.json' 파일에 저장되었습니다.\")\n"
   ]
  }
 ],
 "metadata": {
  "kernelspec": {
   "display_name": "Under",
   "language": "python",
   "name": "python3"
  },
  "language_info": {
   "codemirror_mode": {
    "name": "ipython",
    "version": 3
   },
   "file_extension": ".py",
   "mimetype": "text/x-python",
   "name": "python",
   "nbconvert_exporter": "python",
   "pygments_lexer": "ipython3",
   "version": "3.11.10"
  }
 },
 "nbformat": 4,
 "nbformat_minor": 2
}
