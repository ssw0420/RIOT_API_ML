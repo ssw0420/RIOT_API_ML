{
 "cells": [
  {
   "cell_type": "code",
   "execution_count": 19,
   "metadata": {},
   "outputs": [],
   "source": [
    "import numpy as np\n",
    "import pandas as pd\n",
    "import requests\n",
    "import json  # JSON 파일 저장을 위해 추가\n",
    "import time\n",
    "\n",
    "# Riot API 키 설정\n",
    "api_key = 'RGAPI-139be212-60b2-448a-a0c5-2537fe2fd3f3'\n",
    "\n",
    "# 요청 헤더 설정\n",
    "request_header = {\n",
    "    \"User-Agent\": \"Mozilla/5.0 (Windows NT 10.0; Win64; x64) AppleWebKit/537.36 (KHTML, like Gecko) Chrome/97.0.4692.99 Safari/537.36\",\n",
    "    \"Accept-Language\": \"ko-KR,ko;q=0.9,en-US;q=0.8,en;q=0.7\",\n",
    "    \"Accept-Charset\": \"application/x-www-form-urlencoded; charset=UTF-8\",\n",
    "    \"Origin\": \"https://developer.riotgames.com\",\n",
    "    \"X-Riot-Token\": api_key\n",
    "}\n",
    "\n",
    "# Riot API 기본 URL 설정\n",
    "base_url = \"https://kr.api.riotgames.com/tft/\""
   ]
  },
  {
   "cell_type": "code",
   "execution_count": null,
   "metadata": {},
   "outputs": [
    {
     "name": "stdout",
     "output_type": "stream",
     "text": [
      "TFT 플레이 여부 확인이 완료되었습니다.\n"
     ]
    }
   ],
   "source": [
    "# PUUID 목록 로드\n",
    "with open('puuid_list.json', 'r', encoding='utf-8') as file:\n",
    "    puuid_list = json.load(file)\n",
    "\n",
    "# 결과를 저장할 딕셔너리 초기화\n",
    "results = {}\n",
    "\n",
    "# TFT 매치 기록을 확인할 함수\n",
    "def check_tft_played(puuid):\n",
    "    # TFT 매치 리스트 API 엔드포인트\n",
    "    match_list_url = f\"https://asia.api.riotgames.com/tft/match/v1/matches/by-puuid/{puuid}/ids\"\n",
    "    try:\n",
    "        response = requests.get(match_list_url, headers=request_header)\n",
    "        response.raise_for_status()\n",
    "        match_ids = response.json()\n",
    "        # 매치 ID 목록이 비어있지 않으면 TFT를 플레이한 것으로 간주\n",
    "        return len(match_ids) > 0\n",
    "    except requests.exceptions.RequestException as e:\n",
    "        print(f\"Error fetching match list for PUUID {puuid}: {e}\")\n",
    "        return False\n",
    "\n",
    "# 각 PUUID에 대해 TFT 플레이 여부 확인\n",
    "for puuid in puuid_list:\n",
    "    has_played = check_tft_played(puuid)\n",
    "    results[puuid] = has_played\n",
    "    # API 호출 제한을 피하기 위해 지연 시간 추가\n",
    "    time.sleep(2)  # 2초 지연\n",
    "\n",
    "# TFT를 플레이한 사람과 플레이하지 않은 사람의 수 계산\n",
    "played_count = sum(results.values())\n",
    "not_played_count = len(results) - played_count\n",
    "\n",
    "# 최종 결과를 저장할 딕셔너리 생성\n",
    "final_results = {\n",
    "    \"played_count\": played_count,\n",
    "    \"not_played_count\": not_played_count,\n",
    "    \"details\": results\n",
    "}\n",
    "\n",
    "# 결과를 JSON 파일로 저장\n",
    "with open('tft_played_results.json', 'w', encoding='utf-8') as file:\n",
    "    json.dump(final_results, file, ensure_ascii=False, indent=4)\n",
    "\n",
    "print(\"TFT 플레이 여부 확인이 완료되었습니다.\")"
   ]
  }
 ],
 "metadata": {
  "kernelspec": {
   "display_name": "Under",
   "language": "python",
   "name": "python3"
  },
  "language_info": {
   "codemirror_mode": {
    "name": "ipython",
    "version": 3
   },
   "file_extension": ".py",
   "mimetype": "text/x-python",
   "name": "python",
   "nbconvert_exporter": "python",
   "pygments_lexer": "ipython3",
   "version": "3.11.10"
  }
 },
 "nbformat": 4,
 "nbformat_minor": 2
}
