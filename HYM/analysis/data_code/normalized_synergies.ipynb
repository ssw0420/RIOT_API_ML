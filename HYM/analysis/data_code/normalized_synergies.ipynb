{
 "cells": [
  {
   "cell_type": "code",
   "execution_count": 3,
   "metadata": {},
   "outputs": [
    {
     "name": "stdout",
     "output_type": "stream",
     "text": [
      "백분율 변환이 완료되었습니다. 결과가 'puuid_synergy_percentages.json' 파일에 저장되었습니다.\n"
     ]
    }
   ],
   "source": [
    "import json\n",
    "\n",
    "# puuid_synergy_counts.json 파일 로드\n",
    "with open('puuid_synergy_counts.json', 'r', encoding='utf-8') as file:\n",
    "    synergy_counts = json.load(file)\n",
    "\n",
    "# 백분율 변환\n",
    "synergy_percentages = []\n",
    "\n",
    "for entry in synergy_counts:\n",
    "    puuid = entry['puuid']\n",
    "    synergies = entry['synergies']\n",
    "    \n",
    "    # 총 시너지 사용 횟수 계산\n",
    "    total_synergies = sum(synergies.values())\n",
    "    \n",
    "    # 각 시너지를 백분율로 변환\n",
    "    percentages = {synergy: (count / total_synergies * 100) for synergy, count in synergies.items()}\n",
    "    \n",
    "    # 변환 결과 저장\n",
    "    synergy_percentages.append({\n",
    "        \"puuid\": puuid,\n",
    "        \"synergy_percentages\": percentages\n",
    "    })\n",
    "\n",
    "# 결과를 JSON 파일로 저장\n",
    "with open('puuid_synergy_percentages.json', 'w', encoding='utf-8') as file:\n",
    "    json.dump(synergy_percentages, file, ensure_ascii=False, indent=4)\n",
    "\n",
    "print(\"백분율 변환이 완료되었습니다. 결과가 'puuid_synergy_percentages.json' 파일에 저장되었습니다.\")\n"
   ]
  }
 ],
 "metadata": {
  "kernelspec": {
   "display_name": "Under",
   "language": "python",
   "name": "python3"
  },
  "language_info": {
   "codemirror_mode": {
    "name": "ipython",
    "version": 3
   },
   "file_extension": ".py",
   "mimetype": "text/x-python",
   "name": "python",
   "nbconvert_exporter": "python",
   "pygments_lexer": "ipython3",
   "version": "3.11.10"
  }
 },
 "nbformat": 4,
 "nbformat_minor": 2
}
